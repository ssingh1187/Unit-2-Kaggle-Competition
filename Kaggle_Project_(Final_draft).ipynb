{
  "nbformat": 4,
  "nbformat_minor": 0,
  "metadata": {
    "colab": {
      "name": "Kaggle Project (Final draft).ipynb",
      "version": "0.3.2",
      "provenance": [],
      "include_colab_link": true
    },
    "kernelspec": {
      "name": "python3",
      "display_name": "Python 3"
    }
  },
  "cells": [
    {
      "cell_type": "markdown",
      "metadata": {
        "id": "view-in-github",
        "colab_type": "text"
      },
      "source": [
        "<a href=\"https://colab.research.google.com/github/ssingh1187/Unit-2-Kaggle-Competition/blob/master/Kaggle_Project_(Final_draft).ipynb\" target=\"_parent\"><img src=\"https://colab.research.google.com/assets/colab-badge.svg\" alt=\"Open In Colab\"/></a>"
      ]
    },
    {
      "metadata": {
        "id": "V-J0TPVcDRLC",
        "colab_type": "code",
        "colab": {}
      },
      "cell_type": "code",
      "source": [
        "import pandas as pd\n",
        "test_features = pd.read_csv('https://raw.githubusercontent.com/ssingh1187/DS-Unit-2-Sprint-4-Model-Validation/master/test_features.csv')\n",
        "train_features = pd.read_csv('https://raw.githubusercontent.com/ssingh1187/DS-Unit-2-Sprint-4-Model-Validation/master/train_features.csv')\n",
        "train_labels = pd.read_csv('https://raw.githubusercontent.com/ssingh1187/DS-Unit-2-Sprint-4-Model-Validation/master/train_labels.csv')\n",
        "sample_submission = pd.read_csv('https://raw.githubusercontent.com/ssingh1187/DS-Unit-2-Sprint-4-Model-Validation/master/train_labels.csv')\n"
      ],
      "execution_count": 0,
      "outputs": []
    },
    {
      "metadata": {
        "id": "qs8YH7FcDHCq",
        "colab_type": "code",
        "outputId": "60cede3a-fcff-453d-dc96-1cd62da83c2e",
        "colab": {
          "base_uri": "https://localhost:8080/",
          "height": 1547
        }
      },
      "cell_type": "code",
      "source": [
        "print(\"\\ntrain_features null counts:\")\n",
        "print(train_features.isnull().sum())\n",
        "print(train_labels.status_group.value_counts())\n",
        "print(\"\\ntest_features null counts:\")\n",
        "print(test_features.isnull().sum())"
      ],
      "execution_count": 0,
      "outputs": [
        {
          "output_type": "stream",
          "text": [
            "\n",
            "train_features null counts:\n",
            "id                           0\n",
            "amount_tsh                   0\n",
            "date_recorded                0\n",
            "funder                    3635\n",
            "gps_height                   0\n",
            "installer                 3655\n",
            "longitude                    0\n",
            "latitude                     0\n",
            "wpt_name                     0\n",
            "num_private                  0\n",
            "basin                        0\n",
            "subvillage                 371\n",
            "region                       0\n",
            "region_code                  0\n",
            "district_code                0\n",
            "lga                          0\n",
            "ward                         0\n",
            "population                   0\n",
            "public_meeting            3334\n",
            "recorded_by                  0\n",
            "scheme_management         3877\n",
            "scheme_name              28166\n",
            "permit                    3056\n",
            "construction_year            0\n",
            "extraction_type              0\n",
            "extraction_type_group        0\n",
            "extraction_type_class        0\n",
            "management                   0\n",
            "management_group             0\n",
            "payment                      0\n",
            "payment_type                 0\n",
            "water_quality                0\n",
            "quality_group                0\n",
            "quantity                     0\n",
            "quantity_group               0\n",
            "source                       0\n",
            "source_type                  0\n",
            "source_class                 0\n",
            "waterpoint_type              0\n",
            "waterpoint_type_group        0\n",
            "dtype: int64\n",
            "functional                 32259\n",
            "non functional             22824\n",
            "functional needs repair     4317\n",
            "Name: status_group, dtype: int64\n",
            "\n",
            "test_features null counts:\n",
            "id                          0\n",
            "amount_tsh                  0\n",
            "date_recorded               0\n",
            "funder                    783\n",
            "gps_height                  0\n",
            "installer                 788\n",
            "longitude                   0\n",
            "latitude                    0\n",
            "wpt_name                    0\n",
            "num_private                 0\n",
            "basin                       0\n",
            "subvillage                 94\n",
            "region                      0\n",
            "region_code                 0\n",
            "district_code               0\n",
            "lga                         0\n",
            "ward                        0\n",
            "population                  0\n",
            "public_meeting            785\n",
            "recorded_by                 0\n",
            "scheme_management         939\n",
            "scheme_name              6839\n",
            "permit                    663\n",
            "construction_year           0\n",
            "extraction_type             0\n",
            "extraction_type_group       0\n",
            "extraction_type_class       0\n",
            "management                  0\n",
            "management_group            0\n",
            "payment                     0\n",
            "payment_type                0\n",
            "water_quality               0\n",
            "quality_group               0\n",
            "quantity                    0\n",
            "quantity_group              0\n",
            "source                      0\n",
            "source_type                 0\n",
            "source_class                0\n",
            "waterpoint_type             0\n",
            "waterpoint_type_group       0\n",
            "dtype: int64\n"
          ],
          "name": "stdout"
        }
      ]
    },
    {
      "metadata": {
        "id": "bWd18g9IDcCO",
        "colab_type": "code",
        "colab": {}
      },
      "cell_type": "code",
      "source": [
        "# Ignoring null columns\n",
        "train_features.dropna(axis=1, inplace=True)\n",
        "test_features.dropna(axis=1, inplace=True)"
      ],
      "execution_count": 0,
      "outputs": []
    },
    {
      "metadata": {
        "id": "2FBpDehrDq-5",
        "colab_type": "code",
        "outputId": "142c6461-ed46-4c12-a2bb-c4f02e834f43",
        "colab": {
          "base_uri": "https://localhost:8080/",
          "height": 459
        }
      },
      "cell_type": "code",
      "source": [
        "# creating age features\n",
        "\n",
        "import numpy as np\n",
        "train_features['newer'] = (train_features.construction_year > 1998).map({True : 1, False : 0})\n",
        "test_features['newer'] = (test_features.construction_year > 1998).map({True : 1, False : 0})\n",
        "\n",
        "print(\"\\ntrain_features unique nonumeric values\")\n",
        "print(train_features.select_dtypes(exclude=np.number).nunique())\n",
        "\n",
        "y_train = train_labels.status_group"
      ],
      "execution_count": 0,
      "outputs": [
        {
          "output_type": "stream",
          "text": [
            "\n",
            "train_features unique nonumeric values\n",
            "date_recorded              356\n",
            "wpt_name                 37400\n",
            "basin                        9\n",
            "region                      21\n",
            "lga                        125\n",
            "ward                      2092\n",
            "recorded_by                  1\n",
            "extraction_type             18\n",
            "extraction_type_group       13\n",
            "extraction_type_class        7\n",
            "management                  12\n",
            "management_group             5\n",
            "payment                      7\n",
            "payment_type                 7\n",
            "water_quality                8\n",
            "quality_group                6\n",
            "quantity                     5\n",
            "quantity_group               5\n",
            "source                      10\n",
            "source_type                  7\n",
            "source_class                 3\n",
            "waterpoint_type              7\n",
            "waterpoint_type_group        6\n",
            "dtype: int64\n"
          ],
          "name": "stdout"
        }
      ]
    },
    {
      "metadata": {
        "id": "wFOEM3-NEzkL",
        "colab_type": "code",
        "outputId": "3cb94529-6607-44eb-b89b-f292896e3d90",
        "colab": {
          "base_uri": "https://localhost:8080/",
          "height": 275
        }
      },
      "cell_type": "code",
      "source": [
        "pip install category_encoders"
      ],
      "execution_count": 0,
      "outputs": [
        {
          "output_type": "stream",
          "text": [
            "Collecting category_encoders\n",
            "\u001b[?25l  Downloading https://files.pythonhosted.org/packages/f7/d3/82a4b85a87ece114f6d0139d643580c726efa45fa4db3b81aed38c0156c5/category_encoders-1.3.0-py2.py3-none-any.whl (61kB)\n",
            "\u001b[K    100% |████████████████████████████████| 61kB 2.3MB/s \n",
            "\u001b[?25hRequirement already satisfied: scipy>=0.17.0 in /usr/local/lib/python3.6/dist-packages (from category_encoders) (1.1.0)\n",
            "Requirement already satisfied: statsmodels>=0.6.1 in /usr/local/lib/python3.6/dist-packages (from category_encoders) (0.8.0)\n",
            "Requirement already satisfied: patsy>=0.4.1 in /usr/local/lib/python3.6/dist-packages (from category_encoders) (0.5.1)\n",
            "Requirement already satisfied: pandas>=0.20.1 in /usr/local/lib/python3.6/dist-packages (from category_encoders) (0.22.0)\n",
            "Requirement already satisfied: numpy>=1.11.1 in /usr/local/lib/python3.6/dist-packages (from category_encoders) (1.14.6)\n",
            "Requirement already satisfied: scikit-learn>=0.17.1 in /usr/local/lib/python3.6/dist-packages (from category_encoders) (0.20.3)\n",
            "Requirement already satisfied: six in /usr/local/lib/python3.6/dist-packages (from patsy>=0.4.1->category_encoders) (1.11.0)\n",
            "Requirement already satisfied: python-dateutil>=2 in /usr/local/lib/python3.6/dist-packages (from pandas>=0.20.1->category_encoders) (2.5.3)\n",
            "Requirement already satisfied: pytz>=2011k in /usr/local/lib/python3.6/dist-packages (from pandas>=0.20.1->category_encoders) (2018.9)\n",
            "Installing collected packages: category-encoders\n",
            "Successfully installed category-encoders-1.3.0\n"
          ],
          "name": "stdout"
        }
      ]
    },
    {
      "metadata": {
        "id": "E5tHtwmoDrct",
        "colab_type": "code",
        "outputId": "2271d90d-475d-47e5-814a-aec42e694f3c",
        "colab": {
          "base_uri": "https://localhost:8080/",
          "height": 105
        }
      },
      "cell_type": "code",
      "source": [
        "\n",
        "from sklearn.preprocessing import OneHotEncoder\n",
        "import category_encoders as ce\n",
        "from sklearn.ensemble import RandomForestClassifier\n",
        "from sklearn.pipeline import make_pipeline\n",
        "from sklearn.preprocessing import StandardScaler\n",
        "\n",
        "X_train = train_features.drop(['id', \"date_recorded\", \"wpt_name\", \"lga\", \"ward\"], axis = 1)\n",
        "X_test  = test_features.drop(['id', \"date_recorded\", \"wpt_name\", \"lga\", \"ward\"], axis = 1)\n",
        "\n",
        "cat_encoder = ce.OneHotEncoder(use_cat_names=True)\n",
        "\n",
        "clf = RandomForestClassifier(class_weight = 'balanced',\n",
        "                                            n_jobs = -1,\n",
        "                                            n_estimators = 2000)\n",
        "\n",
        "pipeline = make_pipeline(cat_encoder,\n",
        "                         StandardScaler(),\n",
        "                         clf)\n",
        "\n",
        "pipe_out = pipeline.fit(X_train, y_train)"
      ],
      "execution_count": 0,
      "outputs": [
        {
          "output_type": "stream",
          "text": [
            "/usr/local/lib/python3.6/dist-packages/sklearn/preprocessing/data.py:645: DataConversionWarning: Data with input dtype int64, float64 were all converted to float64 by StandardScaler.\n",
            "  return self.partial_fit(X, y)\n",
            "/usr/local/lib/python3.6/dist-packages/sklearn/base.py:467: DataConversionWarning: Data with input dtype int64, float64 were all converted to float64 by StandardScaler.\n",
            "  return self.fit(X, y, **fit_params).transform(X)\n"
          ],
          "name": "stderr"
        }
      ]
    },
    {
      "metadata": {
        "id": "6-6nC8-yEq4i",
        "colab_type": "code",
        "outputId": "1426cfba-c879-4f04-e09b-77be554d60c3",
        "colab": {
          "base_uri": "https://localhost:8080/",
          "height": 88
        }
      },
      "cell_type": "code",
      "source": [
        "print(\"RF Score:\", pipeline.score(X_train, y_train))\n",
        "\n",
        "submission = pd.read_csv('https://raw.githubusercontent.com/ssingh1187/DS-Unit-2-Sprint-4-Model-Validation/master/tanzania_kaggle_1.csv')\n"
      ],
      "execution_count": 0,
      "outputs": [
        {
          "output_type": "stream",
          "text": [
            "/usr/local/lib/python3.6/dist-packages/sklearn/pipeline.py:511: DataConversionWarning: Data with input dtype int64, float64 were all converted to float64 by StandardScaler.\n",
            "  Xt = transform.transform(Xt)\n"
          ],
          "name": "stderr"
        },
        {
          "output_type": "stream",
          "text": [
            "RF Score: 0.9929124579124579\n"
          ],
          "name": "stdout"
        }
      ]
    },
    {
      "metadata": {
        "id": "uVtwoxJNIuWN",
        "colab_type": "code",
        "outputId": "725ab2bd-d634-4285-e05a-b747a6890c6c",
        "colab": {
          "base_uri": "https://localhost:8080/",
          "height": 292
        }
      },
      "cell_type": "code",
      "source": [
        "temp = pd.DataFrame(pipeline.predict(X_test))\n",
        "\n",
        "print(temp.shape)\n",
        "print(temp[0].value_counts(normalize=True))\n",
        "print(temp[0].value_counts())\n",
        "\n",
        "submission['status_group'] = temp[0]\n",
        "print(submission.status_group.value_counts())\n",
        "\n",
        "submission.to_csv('tanzania_kaggle_02.csv', index=False)"
      ],
      "execution_count": 0,
      "outputs": [
        {
          "output_type": "stream",
          "text": [
            "/usr/local/lib/python3.6/dist-packages/sklearn/pipeline.py:331: DataConversionWarning: Data with input dtype int64, float64 were all converted to float64 by StandardScaler.\n",
            "  Xt = transform.transform(Xt)\n"
          ],
          "name": "stderr"
        },
        {
          "output_type": "stream",
          "text": [
            "(14358, 1)\n",
            "functional                 0.570901\n",
            "non functional             0.373032\n",
            "functional needs repair    0.056066\n",
            "Name: 0, dtype: float64\n",
            "functional                 8197\n",
            "non functional             5356\n",
            "functional needs repair     805\n",
            "Name: 0, dtype: int64\n",
            "functional                 8197\n",
            "non functional             5356\n",
            "functional needs repair     805\n",
            "Name: status_group, dtype: int64\n"
          ],
          "name": "stdout"
        }
      ]
    }
  ]
}